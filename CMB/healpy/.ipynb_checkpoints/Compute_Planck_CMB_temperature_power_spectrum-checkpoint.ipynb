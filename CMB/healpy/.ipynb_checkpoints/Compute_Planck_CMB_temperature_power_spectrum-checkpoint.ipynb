{
 "cells": [
  {
   "cell_type": "markdown",
   "id": "0e921ef5-d23a-4a7d-be6e-9db9717ac293",
   "metadata": {},
   "source": [
    "### Compute the Planck CMB temperature power spectrum with healpy anafast"
   ]
  },
  {
   "cell_type": "code",
   "execution_count": 1,
   "id": "536c9fb2-9c7c-415e-a069-f3879deda897",
   "metadata": {},
   "outputs": [],
   "source": [
    "import healpy as hp\n",
    "import numpy as np\n",
    "import os\n",
    "import astropy.units as u\n",
    "import matplotlib.pyplot as plt\n",
    "%matplotlib inline"
   ]
  },
  {
   "cell_type": "markdown",
   "id": "c7470ed1-152f-4bc2-9108-8a3c2921bd14",
   "metadata": {},
   "source": [
    "In this notebook we will load the Planck CMB-only temperature map and try to reproduce the Planck CMB power spectrum in temperature just using healpy."
   ]
  },
  {
   "cell_type": "markdown",
   "id": "cf306e30-7217-4ea7-a5b4-57d19eb57221",
   "metadata": {},
   "source": [
    "### Load data"
   ]
  },
  {
   "cell_type": "markdown",
   "id": "e30f93f3-6c31-4798-a1aa-acb224792b4a",
   "metadata": {},
   "source": [
    "First we load the Planck data release 3 CMB-only temperature produced by Commander by separating it out from galactic foregrounds:"
   ]
  },
  {
   "cell_type": "raw",
   "id": "eafd2b42-c9df-4bac-9f1a-8d1389f2bd85",
   "metadata": {},
   "source": [
    "!wget https://irsa.ipac.caltech.edu/data/Planck/release_3/all-sky-maps/maps/component-maps/cmb/COM_CMB_IQU-commander_2048_R3.00_full.fits"
   ]
  },
  {
   "cell_type": "code",
   "execution_count": null,
   "id": "7338a735-75de-4338-947b-7eb522dc3d67",
   "metadata": {},
   "outputs": [],
   "source": [
    "filename = 'COM_CMB_IQU-commander_2048_R3.00_full.fits'\n",
    "cmb_map = hp.read_map(filename)\n"
   ]
  },
  {
   "cell_type": "raw",
   "id": "784c7a10-9033-4604-bed5-12007cf2d184",
   "metadata": {},
   "source": [
    "!wget https://irsa.ipac.caltech.edu/data/Planck/release_3/ancillary-data/masks/COM_Mask_CMB-common-Mask-Int_2048_R3.00.fits"
   ]
  },
  {
   "cell_type": "code",
   "execution_count": null,
   "id": "c01615d1-998b-4e1f-80c1-7b650dc9835a",
   "metadata": {},
   "outputs": [],
   "source": [
    "hp.mollview(cmb_map, min=-1e-3, max=1e-3, title=\"CMB only temperature map\", unit=\"K\")"
   ]
  },
  {
   "cell_type": "markdown",
   "id": "d0af161f-abc8-4ce5-9dac-8df5941c1223",
   "metadata": {},
   "source": [
    "We see there is residual galactic emission we should mask. The contamination just close to the galactic plane, so we could run anafast and specify a few degrees of gal_cut.\n",
    "\n",
    "However, let’s exercise also how to use one of the Planck mask and use it to mask:"
   ]
  },
  {
   "cell_type": "code",
   "execution_count": null,
   "id": "9d0ebceb-2673-4f9d-abc5-84ed50937c28",
   "metadata": {},
   "outputs": [],
   "source": [
    "path = 'COM_Mask_CMB-common-Mask-Int_2048_R3.00.fits'\n",
    "mask = hp.read_map(path)\n",
    "map_masked = hp.ma(cmb_map)\n",
    "map_masked.mask = np.logical_not(mask)"
   ]
  },
  {
   "cell_type": "code",
   "execution_count": null,
   "id": "e5e9f054-6649-49c6-8d7a-caad1a3918f1",
   "metadata": {},
   "outputs": [],
   "source": [
    "hp.mollview(map_masked, min=-1e-3, max=1e-3)"
   ]
  },
  {
   "cell_type": "markdown",
   "id": "8bc4e3b8-ed7e-4b8d-a04f-8470d1eed8e9",
   "metadata": {},
   "source": [
    "Finally we load the binned TT CMB power spectrum that will be our target:"
   ]
  },
  {
   "cell_type": "raw",
   "id": "00fee77c-8673-4309-a0a1-2a2286b87d07",
   "metadata": {},
   "source": [
    "!head -3 COM_PowerSpect_CMB-TT-binned_R3.01.txt"
   ]
  },
  {
   "cell_type": "code",
   "execution_count": null,
   "id": "26c58906-c2c9-4938-a913-b9a79a84d563",
   "metadata": {},
   "outputs": [],
   "source": [
    "cmb_binned_spectrum = np.loadtxt('COM_PowerSpect_CMB-TT-binned_R3.01.txt')"
   ]
  },
  {
   "cell_type": "markdown",
   "id": "a000da57-5f08-42f9-91a6-93014fa1bc36",
   "metadata": {},
   "source": [
    "### Compute the power spectrum\n",
    "\n",
    "Always use use_pixel_weights=True in anafast to have a more precise spectrum estimation\n",
    "\n",
    "If you compute the spectrum on the partial sky, first order correction is to divide by the sky fraction to retrieve the spectrum over the full sky\n"
   ]
  },
  {
   "cell_type": "code",
   "execution_count": null,
   "id": "cee5adb4-55a9-4ba6-847f-eebbab0828a8",
   "metadata": {},
   "outputs": [],
   "source": [
    "lmax = 3000"
   ]
  },
  {
   "cell_type": "code",
   "execution_count": null,
   "id": "5ad2d7ab-c3e6-4942-8384-72ad971ca3a0",
   "metadata": {},
   "outputs": [],
   "source": [
    "test_cls_meas_frommap = hp.anafast(map_masked, lmax=lmax, use_pixel_weights=True)"
   ]
  },
  {
   "cell_type": "code",
   "execution_count": null,
   "id": "f3f18cc0-0d65-444c-8d12-e553d4f34bdd",
   "metadata": {},
   "outputs": [],
   "source": [
    "ll = np.arange(lmax+1)"
   ]
  },
  {
   "cell_type": "code",
   "execution_count": null,
   "id": "37e63322-c9cc-4a7b-a95a-b1be842fbd3a",
   "metadata": {},
   "outputs": [],
   "source": [
    "sky_fraction = len(map_masked.compressed()) / len(map_masked)"
   ]
  },
  {
   "cell_type": "code",
   "execution_count": null,
   "id": "9ce92170-4282-4d63-a6aa-bdd2c0049c69",
   "metadata": {},
   "outputs": [],
   "source": [
    "print(f\"The map covers {sky_fraction:.1%} of the sky\")"
   ]
  },
  {
   "cell_type": "markdown",
   "id": "4e96c5bf-d00d-4549-bc72-e73eb8f6e3aa",
   "metadata": {},
   "source": [
    "The map covers 77.9% of the sky"
   ]
  },
  {
   "cell_type": "code",
   "execution_count": null,
   "id": "9a5f0352-a038-4627-a032-45da91faf8b0",
   "metadata": {},
   "outputs": [],
   "source": [
    "plt.style.use(\"seaborn-poster\")"
   ]
  },
  {
   "cell_type": "code",
   "execution_count": null,
   "id": "33061c49-a424-4ed1-a0d9-fe5af562c9c6",
   "metadata": {},
   "outputs": [],
   "source": [
    "k2muK = 1e6"
   ]
  },
  {
   "cell_type": "markdown",
   "id": "6be2943c-9221-483a-8ebe-43dfdf7991a2",
   "metadata": {},
   "source": [
    "Power spectra are generally plotted as $D_\\ell$ which is defined as $\\ell (\\ell +1) C_\\ell$, so we need to apply that factor to the  $C_\\ell$ calculated from the map."
   ]
  },
  {
   "cell_type": "code",
   "execution_count": null,
   "id": "7ff99fbc-6b5d-4994-aff5-4f9cbf43d563",
   "metadata": {},
   "outputs": [],
   "source": [
    "plt.plot(cmb_binned_spectrum[:,0], cmb_binned_spectrum[:,1], '--', alpha=1, label='Planck 2018 PS release')\n",
    "plt.plot(ll, ll*(ll+1.)*test_cls_meas_frommap*k2muK**2/2./np.pi / sky_fraction, '--', alpha=0.6, label='Planck 2018 PS from Data Map')\n",
    "plt.xlabel(r'$\\ell$')\n",
    "plt.ylabel(r'$D_\\ell~[\\mu K^2]$')\n",
    "plt.grid()\n",
    "plt.legend(loc='best')\n",
    "\n"
   ]
  },
  {
   "cell_type": "markdown",
   "id": "c0c437c4-d81a-4539-8baf-9bfcb455a4d1",
   "metadata": {},
   "source": [
    "Good, we can reproduce the first peak, but we see that power at small scales is suppressed due to the beam."
   ]
  },
  {
   "cell_type": "markdown",
   "id": "b3a6ef34-1669-409b-be7a-b89529d642f7",
   "metadata": {},
   "source": [
    "## Correct for the beam\n",
    "\n",
    "Reading the documentation of the Planck commander release we see that the output has a resolution of 5 arcminutes. Therefore as a first order correction of the beam, we can divide the power spectrum by the square of the beam window function."
   ]
  },
  {
   "cell_type": "code",
   "execution_count": null,
   "id": "64d695f9-5487-4439-be0d-78775a7a4558",
   "metadata": {},
   "outputs": [],
   "source": [
    "w_ell = hp.gauss_beam((5*u.arcmin).to_value(u.radian), lmax=lmax)"
   ]
  },
  {
   "cell_type": "code",
   "execution_count": null,
   "id": "d70f7621-d3f7-4818-acc2-790c6072f435",
   "metadata": {},
   "outputs": [],
   "source": [
    "plt.plot(cmb_binned_spectrum[:,0], cmb_binned_spectrum[:,1], '--', alpha=1, label='Planck 2018 PS release')\n",
    "plt.plot(ll, ll*(ll+1.)*test_cls_meas_frommap*k2muK**2/2./np.pi / sky_fraction / w_ell**2,\n",
    "         alpha=0.6, label='Planck 2018 PS from Data Map (beam corrected)')\n",
    "plt.xlabel(r'$\\ell$')\n",
    "plt.ylabel(r'$D_\\ell~[\\mu K^2]$')\n",
    "plt.grid()\n",
    "plt.legend(loc='best');\n",
    "\n"
   ]
  },
  {
   "cell_type": "markdown",
   "id": "5e9b1f35-a7ab-442a-9420-388f877c4440",
   "metadata": {},
   "source": [
    "Very good, we were also be able to reproduce the second and third peak, after\n",
    "\n",
    "of about 1000, we start to overestimate the power spectrum.\n",
    "\n",
    "This is as far as we can go with only healpy, the next step would be to properly handle the effect of masking. Computing the power spectrum on a masked map tends to create coupling between different scales, so power at large scales can contaminate the power spectrum at smaller scales. Next we can compute the power spectrum with a more sophisticated tool like NaMaster https://github.com/LSSTDESC/NaMaster which can correct for that.\n"
   ]
  },
  {
   "cell_type": "code",
   "execution_count": null,
   "id": "cee0fe5e-7ab7-47e4-81d8-dae280b68c48",
   "metadata": {},
   "outputs": [],
   "source": []
  }
 ],
 "metadata": {
  "kernelspec": {
   "display_name": "Python 3 (ipykernel)",
   "language": "python",
   "name": "python3"
  },
  "language_info": {
   "codemirror_mode": {
    "name": "ipython",
    "version": 3
   },
   "file_extension": ".py",
   "mimetype": "text/x-python",
   "name": "python",
   "nbconvert_exporter": "python",
   "pygments_lexer": "ipython3",
   "version": "3.10.16"
  }
 },
 "nbformat": 4,
 "nbformat_minor": 5
}
