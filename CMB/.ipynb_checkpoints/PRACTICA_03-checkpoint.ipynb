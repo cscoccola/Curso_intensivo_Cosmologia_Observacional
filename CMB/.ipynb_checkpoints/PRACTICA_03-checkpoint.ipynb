{
 "cells": [
  {
   "cell_type": "markdown",
   "id": "dc6bd02b-7969-4191-939b-8ae8b13902ad",
   "metadata": {},
   "source": [
    "# Semana 1 del curso intensivo de Cosmología  - CMB\n",
    "\n",
    "Del 25 de marzo al 4 de abril de 2025 - DF-FCFyN-UBA\n",
    "\n",
    "Prof. Claudia Scóccola\n",
    "Departamento de Física, Facultad de Ciencias Físicas y Matemáticas, Universidad de Chile\n",
    "\n",
    "---"
   ]
  },
  {
   "cell_type": "markdown",
   "id": "d0ec8728-b79c-4eb4-9ecf-49f869af3fab",
   "metadata": {},
   "source": [
    "## Práctica 3\n",
    "\n",
    "---"
   ]
  },
  {
   "cell_type": "markdown",
   "id": "06a19cac-6a9f-4682-a652-476d0a3bff74",
   "metadata": {},
   "source": [
    "#### Ejercicio 0 \n",
    "\n",
    "Explorar superficialmente los tutoriales de la carpeta CMB/pysm_notebooks/\n",
    "\n",
    "Tenga como referencia estos tutoriales para realizar los ejercicios de la práctica."
   ]
  },
  {
   "cell_type": "markdown",
   "id": "768e8955-53e4-4399-8ae3-25a099913e9d",
   "metadata": {},
   "source": [
    "#### Ejercicio 1\n",
    "\n",
    "Utilice pysm para generar un mapa de CMB solamente. Elija resolución angular, y parámetros cosmológicos. Compare con el mapa que generó en la práctica 1, con los mismos parámetros y resolución (deberá guardar el mapa a disco, y leerlo en este notebook, para eso deberá usar las herramientas de healpy apropiadas). Deberá ver si es posible elegir el mismo seed.\n",
    "\n",
    "Compare haciendo la diferencia de ambos mapas. A que se deben? Es posible que no todos los parámetros por defecto sean idénticos. Si los mapas son diferentes, y no sabe de donde viene la diferencia, esto le enseña que a veces hay parámetros fijados en algún valor de referencia que no es tan obvio a primera vista."
   ]
  },
  {
   "cell_type": "code",
   "execution_count": null,
   "id": "e93df18a-dc51-48f7-8502-e939d806b330",
   "metadata": {},
   "outputs": [],
   "source": []
  },
  {
   "cell_type": "markdown",
   "id": "d173940d-f9a4-4e46-a3f2-e9c96e01ab90",
   "metadata": {},
   "source": [
    "#### Ejercicio 2:\n",
    "\n",
    "Utilice pysm para generar un mapa de CMB + polvo. Qué opciones de modelo de polvo ofrece el paquete pysm? Elija el modelo más simple, y alguna frecuencia particular.\n",
    "\n",
    "Utilice una semilla (seed) determinada, así puede generar el mismo CMB en otro ejercicio para realizar comparaciones."
   ]
  },
  {
   "cell_type": "code",
   "execution_count": null,
   "id": "4918c765-f47d-4f03-831c-d8cdaddda645",
   "metadata": {},
   "outputs": [],
   "source": []
  },
  {
   "cell_type": "markdown",
   "id": "c1001525-e5d1-4d27-8930-17ce46dc5370",
   "metadata": {},
   "source": [
    "#### Ejercicio 3: \n",
    "\n",
    "Ahora utilice un modelo de polvo más complejo y la misma realización de CMB (mismo seed) para generar un mapa.\n",
    "\n",
    "Que diferencias cualitativas encuentra respecto del mapa anterior?"
   ]
  },
  {
   "cell_type": "code",
   "execution_count": null,
   "id": "4eb7abd0-d75e-4f28-9cee-df17eb925a71",
   "metadata": {},
   "outputs": [],
   "source": []
  },
  {
   "cell_type": "markdown",
   "id": "044ad086-28f0-47aa-b823-be5b1d8166e3",
   "metadata": {},
   "source": [
    "#### Ejercicio 4: \n",
    "\n",
    "Repita el ejercicio 2 y 3, pero haciendo realizaciones a distintas frecuencias. Cómo cambia el aspecto de la emisión del polvo para distintas frecuencias? Por qué?\n",
    "\n",
    "Ve diferencias entre los distintos modelos de polvo?\n",
    "\n",
    "Que gráfico se le ocurre hacer para estudiar la dependencia de la intensidad de la emisión del polvo, en función de la frecuencia observada?"
   ]
  },
  {
   "cell_type": "code",
   "execution_count": null,
   "id": "e3725249-58d9-4b2a-8e38-46eff028a98e",
   "metadata": {},
   "outputs": [],
   "source": []
  },
  {
   "cell_type": "markdown",
   "id": "1ffc7f79-33b9-4e72-aa88-bce30fb304fb",
   "metadata": {},
   "source": [
    "#### Ejercicio 5: \n",
    "\n",
    "Utilice pysm para generar un mapa de CMB + sincrotrón a distintas frecuencias. Qué opciones de modelo ofrece pysm?\n",
    "\n",
    "En que se diferencia la emisión de sincrotrón de la del polvo? Cual es más relevante a altas frecuencias y a bajas frecuencias?\n",
    "\n"
   ]
  },
  {
   "cell_type": "code",
   "execution_count": null,
   "id": "8f2dd93c-06ab-492e-b3bf-6efa40f7a7f4",
   "metadata": {},
   "outputs": [],
   "source": []
  },
  {
   "cell_type": "markdown",
   "id": "85596aad-e41d-4685-8447-3cecd05350c8",
   "metadata": {},
   "source": [
    "#### Ejercicio 6:\n",
    "\n",
    "Estudie las unidades en las que se dan los mapas. Convierta un mapa de intensidad en MJy/sr a unidades de temperatura CMB (µK) usando la función `convert_units()` de PySM.\n"
   ]
  },
  {
   "cell_type": "code",
   "execution_count": null,
   "id": "2c8213bf-3609-4ee9-b244-3d0b0dcb2d75",
   "metadata": {},
   "outputs": [],
   "source": []
  },
  {
   "cell_type": "markdown",
   "id": "38b4ff71-a839-42a1-b84c-9aed9fab69e1",
   "metadata": {},
   "source": [
    "#### Ejercicio 7:\n",
    "\n",
    "Simule mapas en bandas similares a las de experimentos reales como Simons Observatory, QUBIC o Planck.\n",
    "\n",
    "Comparar el grado de contaminación en distintas frecuencias.\n"
   ]
  },
  {
   "cell_type": "code",
   "execution_count": null,
   "id": "ce05f7fe-3100-46fc-be8e-e355df45df21",
   "metadata": {},
   "outputs": [],
   "source": []
  },
  {
   "cell_type": "markdown",
   "id": "c485a464-f7c8-4d78-9710-6cf35e1d36dd",
   "metadata": {},
   "source": [
    "#### Ejercicio 8:\n",
    "\n",
    "**Separación de componentes simplificada**  \n",
    "\n",
    "Sume varios componentes (polvo + sincrotrón) y trate de extraer uno usando diferencias de frecuencia.\n"
   ]
  },
  {
   "cell_type": "code",
   "execution_count": null,
   "id": "05dacd36-edf0-4bc7-9c98-6d7f3b6be556",
   "metadata": {},
   "outputs": [],
   "source": []
  },
  {
   "cell_type": "markdown",
   "id": "e872f419-640d-48b1-bfa6-39fddfa1256e",
   "metadata": {},
   "source": [
    "#### Ejercicio 9:\n",
    "\n",
    "Calcule el espectro de potencia de un mapa de foregrounds y compararlo con el del CMB (usando `healpy.anafast`).\n",
    "\n",
    "Evalue cómo los foregrounds afectan la medición de modos B en polarización.\n"
   ]
  },
  {
   "cell_type": "code",
   "execution_count": null,
   "id": "6ede82af-b395-402c-996e-108676ce9e62",
   "metadata": {},
   "outputs": [],
   "source": []
  }
 ],
 "metadata": {
  "kernelspec": {
   "display_name": "Python 3 (ipykernel)",
   "language": "python",
   "name": "python3"
  },
  "language_info": {
   "codemirror_mode": {
    "name": "ipython",
    "version": 3
   },
   "file_extension": ".py",
   "mimetype": "text/x-python",
   "name": "python",
   "nbconvert_exporter": "python",
   "pygments_lexer": "ipython3",
   "version": "3.10.16"
  }
 },
 "nbformat": 4,
 "nbformat_minor": 5
}
