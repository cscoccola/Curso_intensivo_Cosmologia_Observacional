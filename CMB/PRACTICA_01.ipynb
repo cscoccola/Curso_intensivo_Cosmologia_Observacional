{
 "cells": [
  {
   "cell_type": "markdown",
   "id": "dc6bd02b-7969-4191-939b-8ae8b13902ad",
   "metadata": {},
   "source": [
    "# Semana 1 del curso intensivo de Cosmología  - CMB\n",
    "\n",
    "Del 25 de marzo al 4 de abril de 2025 - DF-FCFyN-UBA\n",
    "\n",
    "Prof. Claudia Scóccola\n",
    "Departamento de Física, Facultad de Ciencias Físicas y Matemáticas, Universidad de Chile\n",
    "\n",
    "---"
   ]
  },
  {
   "cell_type": "markdown",
   "id": "d0ec8728-b79c-4eb4-9ecf-49f869af3fab",
   "metadata": {},
   "source": [
    "## Práctica 1\n",
    "\n",
    "---"
   ]
  },
  {
   "cell_type": "markdown",
   "id": "768e8955-53e4-4399-8ae3-25a099913e9d",
   "metadata": {},
   "source": [
    "#### Ejercicio 1\n",
    "\n",
    "Explorar el tutorial CAMBdemo.ipynb para aprender cómo se utiliza el código para calcular los $C_ \\ell$ y cómo se generan mapas a partir de estos espectros."
   ]
  },
  {
   "cell_type": "code",
   "execution_count": null,
   "id": "e93df18a-dc51-48f7-8502-e939d806b330",
   "metadata": {},
   "outputs": [],
   "source": []
  },
  {
   "cell_type": "markdown",
   "id": "d173940d-f9a4-4e46-a3f2-e9c96e01ab90",
   "metadata": {},
   "source": [
    "#### Ejercicio 2:\n",
    "\n",
    "Elegir un conjunto de parámetros cosmológicos, y graficar los $C_\\ell^{TT}$, $C_\\ell^{EE}$, $C_\\ell^{BB}$, $C_\\ell^{TE}$. \n",
    "\n",
    "Notar que la salida de CAMB en realidad son los $D_\\ell = \\frac{\\ell (\\ell + 1)}{2 \\pi} C_\\ell$"
   ]
  },
  {
   "cell_type": "code",
   "execution_count": null,
   "id": "4eb7abd0-d75e-4f28-9cee-df17eb925a71",
   "metadata": {},
   "outputs": [],
   "source": []
  },
  {
   "cell_type": "markdown",
   "id": "044ad086-28f0-47aa-b823-be5b1d8166e3",
   "metadata": {},
   "source": [
    "#### Ejercicio 3: \n",
    "\n",
    "Utilizando CAMB, crear una realización de mapas de CMB. Guarde el \"seed\" para poder reproducir la realización.\n"
   ]
  },
  {
   "cell_type": "code",
   "execution_count": null,
   "id": "8f2dd93c-06ab-492e-b3bf-6efa40f7a7f4",
   "metadata": {},
   "outputs": [],
   "source": []
  },
  {
   "cell_type": "markdown",
   "id": "85596aad-e41d-4685-8447-3cecd05350c8",
   "metadata": {},
   "source": [
    "#### Ejercicio 4:\n",
    "\n",
    "Vuelva a crear la misma realización de mapas de CMB, pero esta vez, con un beam distinto de cero, simulando el efecto de la PSF (point spread function) de un telescopio.\n",
    "\n",
    "Repita con un FWHM más grande.\n",
    "\n"
   ]
  },
  {
   "cell_type": "code",
   "execution_count": null,
   "id": "2c8213bf-3609-4ee9-b244-3d0b0dcb2d75",
   "metadata": {},
   "outputs": [],
   "source": []
  },
  {
   "cell_type": "markdown",
   "id": "38b4ff71-a839-42a1-b84c-9aed9fab69e1",
   "metadata": {},
   "source": [
    "#### Ejercicio 5:\n",
    "\n",
    "Calcular el espectro a partir del mapa, tanto en el caso de FWHM = 0, como en el caso distinto de cero. En este último caso, aplicar la corrección por beam."
   ]
  },
  {
   "cell_type": "code",
   "execution_count": null,
   "id": "05dacd36-edf0-4bc7-9c98-6d7f3b6be556",
   "metadata": {},
   "outputs": [],
   "source": []
  }
 ],
 "metadata": {
  "kernelspec": {
   "display_name": "Python 3 (ipykernel)",
   "language": "python",
   "name": "python3"
  },
  "language_info": {
   "codemirror_mode": {
    "name": "ipython",
    "version": 3
   },
   "file_extension": ".py",
   "mimetype": "text/x-python",
   "name": "python",
   "nbconvert_exporter": "python",
   "pygments_lexer": "ipython3",
   "version": "3.10.16"
  }
 },
 "nbformat": 4,
 "nbformat_minor": 5
}
